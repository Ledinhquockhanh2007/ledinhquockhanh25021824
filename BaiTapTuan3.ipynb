{
 "cells": [
  {
   "cell_type": "code",
   "execution_count": 26,
   "id": "669ea00a-c4e3-4b32-98be-00ed996723f4",
   "metadata": {},
   "outputs": [
    {
     "name": "stdin",
     "output_type": "stream",
     "text": [
      " 2 5\n"
     ]
    },
    {
     "name": "stdout",
     "output_type": "stream",
     "text": [
      "5 2\n"
     ]
    }
   ],
   "source": [
    "#bai1\n",
    "try:\n",
    "    a,b = map(int, input().split())\n",
    "    a = a^b\n",
    "    b = a^b\n",
    "    a = a^b\n",
    "    print(a,b)\n",
    "except:\n",
    "    print(\"Vui long nhap 2 so nguyen tren 1 dong\")"
   ]
  },
  {
   "cell_type": "code",
   "execution_count": 14,
   "id": "dfb13454-b9d5-4ebf-92a6-725cf49867e6",
   "metadata": {},
   "outputs": [
    {
     "name": "stdin",
     "output_type": "stream",
     "text": [
      " 32\n"
     ]
    },
    {
     "name": "stdout",
     "output_type": "stream",
     "text": [
      "32 la luy thua cua 2\n"
     ]
    }
   ],
   "source": [
    "#bai2\n",
    "try:\n",
    "    n = int(input())\n",
    "    if n&(n-1)==0:\n",
    "        print(f'{n} la luy thua cua 2')\n",
    "except:\n",
    "    print(\"Vui long nhap mot so nguyen\")"
   ]
  },
  {
   "cell_type": "code",
   "execution_count": 25,
   "id": "01d8c3fd-2f48-440b-bb32-e0aa0014571b",
   "metadata": {},
   "outputs": [
    {
     "name": "stdin",
     "output_type": "stream",
     "text": [
      " 9 4\n"
     ]
    },
    {
     "name": "stdout",
     "output_type": "stream",
     "text": [
      "lam tron xuong cua m/n la 2\n",
      "lam tron len cua m/n la 3\n"
     ]
    }
   ],
   "source": [
    "#bai3 va 4\n",
    "from math import ceil\n",
    "try:\n",
    "    m,n = map(float, input().split())\n",
    "    print(f'lam tron xuong cua m/n la {int(m/n)}')\n",
    "    print(f'lam tron len cua m/n la {ceil(m/n)}')\n",
    "except:\n",
    "    print(\"Vui long nhap 2 so thuc tren mot dong\")"
   ]
  },
  {
   "cell_type": "code",
   "execution_count": 31,
   "id": "00c30c1a-71b9-401e-8088-2284bd37fb55",
   "metadata": {},
   "outputs": [
    {
     "name": "stdin",
     "output_type": "stream",
     "text": [
      " 15\n"
     ]
    },
    {
     "name": "stdout",
     "output_type": "stream",
     "text": [
      "Odd\n"
     ]
    }
   ],
   "source": [
    "#bai5\n",
    "try:\n",
    "    n = int(input())\n",
    "    print(\"Even\" if n%2 == 0 else \"Odd\")\n",
    "except:\n",
    "    print(\"Vui long nhap 1 so nguyen\")"
   ]
  },
  {
   "cell_type": "code",
   "execution_count": 38,
   "id": "839c32e9-0d0e-4c98-89b2-e5da912285d2",
   "metadata": {},
   "outputs": [
    {
     "name": "stdin",
     "output_type": "stream",
     "text": [
      " -2 -5\n"
     ]
    },
    {
     "name": "stdout",
     "output_type": "stream",
     "text": [
      "Yes\n"
     ]
    }
   ],
   "source": [
    "#bai6\n",
    "try:\n",
    "    a,b = map(int, input().split())\n",
    "    print(\"Yes\" if a<0 and b<0 else \"No\")\n",
    "except:\n",
    "    print(\"Vui long nhap 2 so nguyen tren mot dong\")"
   ]
  },
  {
   "cell_type": "code",
   "execution_count": 69,
   "id": "5c9d6cc3-8f15-42bf-af87-6150589dae8b",
   "metadata": {},
   "outputs": [
    {
     "name": "stdin",
     "output_type": "stream",
     "text": [
      " abcd\n",
      " abc\n"
     ]
    },
    {
     "name": "stdout",
     "output_type": "stream",
     "text": [
      "True\n"
     ]
    }
   ],
   "source": [
    "#bai7\n",
    "try:\n",
    "    a = input()\n",
    "    b = input()\n",
    "    def checkkitu(m):\n",
    "        for ch in m:\n",
    "            if 'A' <= ch <= 'Z':\n",
    "                return True\n",
    "                \n",
    "    if checkkitu(a) or checkkitu(b):           \n",
    "        print(\"Vui long nhap chuoi toan ki tu thuong\")\n",
    "    else:\n",
    "        print(\"True\" if len(a)> len(b) else (\"False\" if len(a) < len(b) else \"Hai ki tu co do dai bang nhau\"))\n",
    "except:\n",
    "    print(\"Vui long nhap 2 chuoi ki tu thuong tren 2 dong\")\n",
    "    \n",
    "    "
   ]
  },
  {
   "cell_type": "code",
   "execution_count": 77,
   "id": "00893a52-bcc2-49fb-8aa7-8d9cf0edba78",
   "metadata": {},
   "outputs": [
    {
     "name": "stdin",
     "output_type": "stream",
     "text": [
      " 3 4 5\n"
     ]
    },
    {
     "name": "stdout",
     "output_type": "stream",
     "text": [
      "Yes\n"
     ]
    }
   ],
   "source": [
    "#bai8\n",
    "try:\n",
    "    a,b,c = map(int,input().split())\n",
    "    if a >0 and b > 0 and c > 0:\n",
    "        if(a+b>c and a+c>b and b+c>a):\n",
    "            print(\"Yes\")\n",
    "        else: print(\"No\")\n",
    "    else:\n",
    "        print(\"a,b,c phai lon hon 0\")\n",
    "except:\n",
    "    print(\"Vui long nhap so nguyen a,b,c tren cung 1 dong\")"
   ]
  },
  {
   "cell_type": "code",
   "execution_count": 82,
   "id": "cbf89168-b01c-41d2-b64c-24596dfb7b30",
   "metadata": {},
   "outputs": [
    {
     "name": "stdin",
     "output_type": "stream",
     "text": [
      " 1 1 1\n"
     ]
    },
    {
     "name": "stdout",
     "output_type": "stream",
     "text": [
      "Tam giac deu\n"
     ]
    }
   ],
   "source": [
    "#bai9\n",
    "import math\n",
    "try:\n",
    "    a,b,c = map(float, input().split())\n",
    "    #chuyen c thanh so lon nhat (sau nay co the dung ham sorted)\n",
    "    tong = a+b+c\n",
    "    c = max([a,b,c]) \n",
    "    a = min([a,b,c])\n",
    "    b = tong - a - c\n",
    "\n",
    "    if a+b<=c:\n",
    "        print(\"Khong phai la tam giac\")\n",
    "    else:\n",
    "        #kiem tra deu -> can -> vuong can -> vuong -> thuong\n",
    "        if(math.isclose(a,b) and math.isclose(b,c)):\n",
    "            print(\"Tam giac deu\")\n",
    "        elif(math.isclose(a,b) or math.isclose(b,c) or math.isclose(a,c)):\n",
    "            if math.isclose(a**2 +b**2, c**2):\n",
    "                print(\"Tam giac vuong can\")\n",
    "            else:\n",
    "                print(\"Tam giac can\")\n",
    "        elif math.isclose(a**2+b**2, c**2):\n",
    "            print(\"Tam giac vuong\")\n",
    "        else:\n",
    "            print(\"Tam giac thuong\")\n",
    "except:\n",
    "    print(\"Vui long nhap 3 so thuc a,b,c tren 1 dong\")\n"
   ]
  },
  {
   "cell_type": "code",
   "execution_count": 85,
   "id": "a96754e5-3765-47a5-befe-c53fd7dce524",
   "metadata": {},
   "outputs": [
    {
     "name": "stdin",
     "output_type": "stream",
     "text": [
      " 2000\n"
     ]
    },
    {
     "name": "stdout",
     "output_type": "stream",
     "text": [
      "Yes\n"
     ]
    }
   ],
   "source": [
    "#bai10\n",
    "try:\n",
    "    year = int(input())\n",
    "    if year > 0:\n",
    "        if(year %400 == 0 or (year % 100 != 0 and year % 4 == 0)):\n",
    "            print(\"Yes\")\n",
    "        else:\n",
    "            print(\"No\")\n",
    "    else:\n",
    "        print(\"No\")\n",
    "except:\n",
    "    print(\"Vui long nhap so nam la mot so nguyen > 0\")"
   ]
  },
  {
   "cell_type": "code",
   "execution_count": 95,
   "id": "e37d7862-570a-4928-b796-0826585a6254",
   "metadata": {},
   "outputs": [
    {
     "name": "stdin",
     "output_type": "stream",
     "text": [
      " 3 2\n"
     ]
    },
    {
     "name": "stdout",
     "output_type": "stream",
     "text": [
      "x = -0.67\n"
     ]
    }
   ],
   "source": [
    "#bai11\n",
    "#ax+b=0\n",
    "try:\n",
    "    a,b = map(float,input().split())\n",
    "    if a == 0:\n",
    "        print(\"Vo so nghiem\" if b == 0 else \"Vo nghiem\")\n",
    "    else:\n",
    "        print(f'x = {round((-b/a),2)}')\n",
    "except:\n",
    "    print(\"Vui long nhap 2 so thuc a,b tren mot dong\")"
   ]
  },
  {
   "cell_type": "code",
   "execution_count": 99,
   "id": "e315cdcc-b401-4b2f-b425-e100bf6f76a8",
   "metadata": {},
   "outputs": [
    {
     "name": "stdin",
     "output_type": "stream",
     "text": [
      " 5\n"
     ]
    },
    {
     "name": "stdout",
     "output_type": "stream",
     "text": [
      "Trung binh\n"
     ]
    }
   ],
   "source": [
    "#bai12\n",
    "try:\n",
    "    diem = float(input())\n",
    "    if(0<= diem <=10):\n",
    "        print(\"Gioi\" if diem >=8 else (\"Kha\" if(6.5<= diem <8) else(\"Trung binh\" if 5<=diem<6.5 else \"Yeu\")))\n",
    "    else:\n",
    "        print(\"Vui long nhap diem la 1 so thuc > 0 va < 10\")\n",
    "except:\n",
    "    print(\"Vui long nhap diem la 1 so thuc > 0 va < 10\")"
   ]
  },
  {
   "cell_type": "code",
   "execution_count": 124,
   "id": "ef3e30de-ac22-49eb-8991-2c154bc9070e",
   "metadata": {},
   "outputs": [
    {
     "name": "stdin",
     "output_type": "stream",
     "text": [
      " 2.499999\n"
     ]
    },
    {
     "name": "stdout",
     "output_type": "stream",
     "text": [
      "3.0 2.0 2.0\n"
     ]
    }
   ],
   "source": [
    "#bai13\n",
    "try:\n",
    "    a = float(input())\n",
    "    up = (a+1)//1\n",
    "    down = a//1\n",
    "    print(up, down, end = ' ')\n",
    "    print(up if (up - a) <= 1/2 else down)\n",
    "except:\n",
    "    print(\"Vui long nhap so thuc\")"
   ]
  },
  {
   "cell_type": "code",
   "execution_count": 126,
   "id": "917d02af-c5ce-4531-b2a5-c55fd80abb67",
   "metadata": {},
   "outputs": [
    {
     "name": "stdin",
     "output_type": "stream",
     "text": [
      " 2 4 8 16\n"
     ]
    },
    {
     "name": "stdout",
     "output_type": "stream",
     "text": [
      "Yes\n"
     ]
    }
   ],
   "source": [
    "#bai14\n",
    "try:\n",
    "    a,b,c,d = map(int, input().split())\n",
    "    q = b/a\n",
    "    if(b*q == c and c*q == d):\n",
    "        print(\"Yes\")\n",
    "    else:\n",
    "        print(\"No\")\n",
    "except:\n",
    "    print(\"Vui long nhap 4 so nguyen a,b,c,d tren mot dong\")"
   ]
  }
 ],
 "metadata": {
  "kernelspec": {
   "display_name": "Python 3 (ipykernel)",
   "language": "python",
   "name": "python3"
  },
  "language_info": {
   "codemirror_mode": {
    "name": "ipython",
    "version": 3
   },
   "file_extension": ".py",
   "mimetype": "text/x-python",
   "name": "python",
   "nbconvert_exporter": "python",
   "pygments_lexer": "ipython3",
   "version": "3.13.7"
  }
 },
 "nbformat": 4,
 "nbformat_minor": 5
}
