{
 "cells": [
  {
   "cell_type": "code",
   "execution_count": 11,
   "id": "afd609f6-7281-4d44-8ee5-d790573830f2",
   "metadata": {},
   "outputs": [
    {
     "name": "stdin",
     "output_type": "stream",
     "text": [
      "Nhap chieu dai, chieu rong:  5 6\n"
     ]
    },
    {
     "name": "stdout",
     "output_type": "stream",
     "text": [
      "S = 30.0, P = 22.0\n"
     ]
    }
   ],
   "source": [
    "#bai1\n",
    "l,w = map(float, input(\"Nhap chieu dai, chieu rong: \").split())\n",
    "print(f'S = {w*l}, P = {2*(w+l)}')"
   ]
  },
  {
   "cell_type": "code",
   "execution_count": 12,
   "id": "2411272f-1895-477e-bada-d3921bf928f8",
   "metadata": {},
   "outputs": [
    {
     "name": "stdin",
     "output_type": "stream",
     "text": [
      "Nhap ban kinh:  5 \n"
     ]
    },
    {
     "name": "stdout",
     "output_type": "stream",
     "text": [
      "S = 78.54, P = 31.42\n"
     ]
    }
   ],
   "source": [
    "#bai2\n",
    "from math import pi\n",
    "r = float(input(\"Nhap ban kinh: \"))\n",
    "print(f'S = {round(pi*r*r,2)}, P = {round(2*pi*r,2)}')"
   ]
  },
  {
   "cell_type": "code",
   "execution_count": 58,
   "id": "570337c3-4823-48d0-9aee-68dfd8da75c6",
   "metadata": {},
   "outputs": [
    {
     "name": "stdin",
     "output_type": "stream",
     "text": [
      " 1 1 1.41\n"
     ]
    },
    {
     "name": "stdout",
     "output_type": "stream",
     "text": [
      "Tam giac can\n",
      "S = 0.5000\n",
      "P = 3.4100\n"
     ]
    }
   ],
   "source": [
    "import math\n",
    "a,b,c = map(float, input().split())\n",
    "check = 0\n",
    "#thuong = 0, can = 1, deu = 2, vuong = 3, vuongcan=4\n",
    "#ktra tam giac\n",
    "if a+b>c and a+c>b and b+c > a:\n",
    "    if a == b or a == c or b == c:\n",
    "        check = 1\n",
    "        if a == b == c:\n",
    "            check = 2\n",
    "    if (a**2 + b**2) == (c**2) or (a**2 + c**2) == (b**2) or (b**2 + c**2) == (a**2):\n",
    "        if check == 1:\n",
    "            check = 4\n",
    "        else:\n",
    "            check = 3\n",
    "#in\n",
    "    print(\"Tam giac thuong\" if check == 0 else (\"Tam giac can\" if check == 1 else(\"Tam giac deu\" if check == 2 else(\"Tam giac vuong\" if check == 3 else \"Tam giac vuong can\"))))\n",
    "    p = (a+b+c)/2\n",
    "    print(\"S =\",'%.4f'%(math.sqrt(p*(p-a)*(p-b)*(p-c))))\n",
    "    print(\"P =\", '%.4f'%(p*2))\n",
    "else:\n",
    "    print(\"Khong la ba canh cua mot tam giac\")"
   ]
  },
  {
   "cell_type": "code",
   "execution_count": 25,
   "id": "33f98d0e-39c9-41bf-ae17-04bb3c5a09cf",
   "metadata": {},
   "outputs": [
    {
     "name": "stdin",
     "output_type": "stream",
     "text": [
      " 0 0\n"
     ]
    },
    {
     "name": "stdout",
     "output_type": "stream",
     "text": [
      "vo so nghiem\n"
     ]
    }
   ],
   "source": [
    "#bai4\n",
    "#giai ax+b = 0\n",
    "a,b = map(float, input().split())\n",
    "if a == 0:\n",
    "    print(\"vo nghiem\" if b != 0 else \"vo so nghiem\")\n",
    "else:\n",
    "    print(\"x =\", -b/a)"
   ]
  },
  {
   "cell_type": "code",
   "execution_count": 12,
   "id": "e0c102ab-6e98-497c-8669-b2d6dfb77bb4",
   "metadata": {},
   "outputs": [
    {
     "name": "stdin",
     "output_type": "stream",
     "text": [
      " 0 2 0\n"
     ]
    },
    {
     "name": "stdout",
     "output_type": "stream",
     "text": [
      "0\n"
     ]
    }
   ],
   "source": [
    "#bai5\n",
    "#ax^2+bx+c = 0\n",
    "import math\n",
    "a,b,c = map(float, input().split())\n",
    "delta = b**2 - 4*a*c\n",
    "candelta = math.sqrt(delta)\n",
    "if a == 0:\n",
    "    if b == 0:\n",
    "        print(\"Vo nghiem\" if c!=0 else \"Vo so nghiem\")\n",
    "    else:\n",
    "        print(-c/b if c != 0 else 0)\n",
    "elif(delta > 0):\n",
    "    x1 = (-b+candelta) /2*a\n",
    "    x2 = (-b-candelta) /2*a\n",
    "    print(x1,x2, sep = ' ')\n",
    "elif(delta == 0):\n",
    "    x = (-b+candelta) /2*a\n",
    "    print(x)\n",
    "else:\n",
    "    print(\"Vo nghiem\")\n"
   ]
  },
  {
   "cell_type": "code",
   "execution_count": 72,
   "id": "f4ac4ade-5e95-43f6-a216-9f393f01347f",
   "metadata": {},
   "outputs": [
    {
     "name": "stdin",
     "output_type": "stream",
     "text": [
      " 5 7 9 14\n"
     ]
    },
    {
     "name": "stdout",
     "output_type": "stream",
     "text": [
      "14.0\n"
     ]
    }
   ],
   "source": [
    "#bai6\n",
    "#tim max trong 4 so\n",
    "a,b,c,d = map(float, input().split())\n",
    "def lon(a,b):\n",
    "    if a>=b: return a\n",
    "    else: return b\n",
    "print(lon(lon(lon(a,b),c),d))"
   ]
  },
  {
   "cell_type": "code",
   "execution_count": 74,
   "id": "91a59906-15d1-4deb-a6cb-a326b1be6835",
   "metadata": {},
   "outputs": [
    {
     "name": "stdin",
     "output_type": "stream",
     "text": [
      " 9 8 5 3\n"
     ]
    },
    {
     "name": "stdout",
     "output_type": "stream",
     "text": [
      "3.0\n"
     ]
    }
   ],
   "source": [
    "#bai7\n",
    "#tim min trong 4 so\n",
    "a,b,c,d = map(float, input().split())\n",
    "def nho(a,b):\n",
    "    if a<=b: return a\n",
    "    else: return b\n",
    "print(nho(nho(nho(a,b),c),d))"
   ]
  },
  {
   "cell_type": "code",
   "execution_count": 1,
   "id": "9d9b88ee-2c5f-4f26-8138-00420809e2de",
   "metadata": {},
   "outputs": [
    {
     "name": "stdin",
     "output_type": "stream",
     "text": [
      " 1 3 6\n",
      " 9 8 2\n"
     ]
    },
    {
     "name": "stdout",
     "output_type": "stream",
     "text": [
      "-2.210526315789474 2.736842105263158\n"
     ]
    }
   ],
   "source": [
    "#bai8\n",
    "import math\n",
    "a,b,m = map(float, input().split())\n",
    "c,d,n = map(float, input().split())\n",
    "det = a*d - b*c\n",
    "if (det == 0):\n",
    "    if(m == n == 0):\n",
    "        print(\"Vo so nghiem\")\n",
    "    else:\n",
    "        print(\"Vo nghiem\")\n",
    "else:\n",
    "    x = (m*d - b*n) / det\n",
    "    y = (a*n - m*c) / det\n",
    "    print(x, y, sep = ' ')\n",
    "        "
   ]
  },
  {
   "cell_type": "code",
   "execution_count": 18,
   "id": "ecf332fb-d70c-4cdb-8c1d-32df90519f02",
   "metadata": {},
   "outputs": [
    {
     "name": "stdin",
     "output_type": "stream",
     "text": [
      " 192839 \n"
     ]
    },
    {
     "name": "stdout",
     "output_type": "stream",
     "text": [
      "53 gio, 33 phut, 59 giay\n"
     ]
    }
   ],
   "source": [
    "#bai9\n",
    "time = int(input())\n",
    "gio = time // 3600\n",
    "phut = (time - gio*3600) // 60\n",
    "giay = (time - gio*3600 - phut*60)\n",
    "print(f'{gio} gio, {phut} phut, {giay} giay')"
   ]
  },
  {
   "cell_type": "code",
   "execution_count": 19,
   "id": "84730a3d-2246-49bf-a489-3a78640b1081",
   "metadata": {},
   "outputs": [
    {
     "name": "stdin",
     "output_type": "stream",
     "text": [
      "Nhap toa do tam: 2 3\n",
      "Nhap ban kinh: 5\n",
      "Nhap toa do diem: 1 2\n"
     ]
    },
    {
     "name": "stdout",
     "output_type": "stream",
     "text": [
      "Diem khong thuoc duong tron\n"
     ]
    }
   ],
   "source": [
    "a,b = map(float, input(\"Nhap toa do tam:\").split())\n",
    "r = float(input(\"Nhap ban kinh:\"))\n",
    "x,y = map(float, input(\"Nhap toa do diem:\").split())\n",
    "check = (x-a)**2 + (y-b)**2 - r**2\n",
    "print(\"Diem thuoc duong tron\" if check == 0 else \"Diem khong thuoc duong tron\")"
   ]
  },
  {
   "cell_type": "code",
   "execution_count": 24,
   "id": "7e9b2d5b-a19f-4060-8e71-1bf40525efa9",
   "metadata": {},
   "outputs": [
    {
     "name": "stdin",
     "output_type": "stream",
     "text": [
      "Nhap so thuc x,y: 2 3.2\n"
     ]
    },
    {
     "name": "stdout",
     "output_type": "stream",
     "text": [
      "x^y = 9.18958683997628\n"
     ]
    }
   ],
   "source": [
    "x,y = map(float, input(\"Nhap so thuc x,y:\").split())\n",
    "print(f'x^y = {x**y}')"
   ]
  }
 ],
 "metadata": {
  "kernelspec": {
   "display_name": "Python 3 (ipykernel)",
   "language": "python",
   "name": "python3"
  },
  "language_info": {
   "codemirror_mode": {
    "name": "ipython",
    "version": 3
   },
   "file_extension": ".py",
   "mimetype": "text/x-python",
   "name": "python",
   "nbconvert_exporter": "python",
   "pygments_lexer": "ipython3",
   "version": "3.13.7"
  }
 },
 "nbformat": 4,
 "nbformat_minor": 5
}
