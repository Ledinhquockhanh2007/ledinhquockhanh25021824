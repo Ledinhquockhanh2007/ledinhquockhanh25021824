{
 "cells": [
  {
   "cell_type": "code",
   "execution_count": 13,
   "id": "486d1c9c-e245-4c1a-af6c-a9ae4e6c5eac",
   "metadata": {},
   "outputs": [
    {
     "name": "stdin",
     "output_type": "stream",
     "text": [
      " 15\n"
     ]
    },
    {
     "name": "stdout",
     "output_type": "stream",
     "text": [
      "120\n"
     ]
    }
   ],
   "source": [
    "#bai1\n",
    "try:\n",
    "    n = int(input())\n",
    "    tong = 0\n",
    "    if n > 0:\n",
    "        for i in range(1,n+1):\n",
    "            tong+=i\n",
    "        print(tong)\n",
    "    else:\n",
    "        print(\"Vui long nhap n > 0\")\n",
    "except:\n",
    "    print(\"Vui long nhap so nguyen n\")"
   ]
  },
  {
   "cell_type": "code",
   "execution_count": 54,
   "id": "e69ba533-33d5-42b6-bc30-b3593d1490d0",
   "metadata": {},
   "outputs": [
    {
     "name": "stdin",
     "output_type": "stream",
     "text": [
      " 12\n"
     ]
    },
    {
     "name": "stdout",
     "output_type": "stream",
     "text": [
      "12 khong la so nguyen to\n"
     ]
    }
   ],
   "source": [
    "#bai2\n",
    "from math import isqrt\n",
    "try:\n",
    "    check = 1\n",
    "    while check:\n",
    "        n = int(input())\n",
    "        if(n>0):\n",
    "            check = 0\n",
    "        else:\n",
    "            print(\"Vui long nhap so nguyen duong\")\n",
    "    #kiem tra so nguyen to\n",
    "    if n >= 2:\n",
    "        flag = True\n",
    "        for i in range(2, isqrt(n)+1):\n",
    "            if n%i == 0: \n",
    "                flag = False\n",
    "                break\n",
    "        if flag:\n",
    "            print(f'{n} la so nguyen to')\n",
    "        else:\n",
    "            print(f'{n} khong la so nguyen to')\n",
    "       \n",
    "    else:\n",
    "        print(f'{n} khong phai la so nguyen to')\n",
    "except ValueError:\n",
    "    print(\"Vui long nhap so nguyen lon hon 2\")\n",
    "        \n",
    "        \n",
    "        \n",
    "    \n",
    "    \n",
    "    "
   ]
  },
  {
   "cell_type": "code",
   "execution_count": 25,
   "id": "49a7bc52-d879-439f-be3e-895c19b94f5e",
   "metadata": {},
   "outputs": [
    {
     "name": "stdin",
     "output_type": "stream",
     "text": [
      " -2\n"
     ]
    },
    {
     "name": "stdout",
     "output_type": "stream",
     "text": [
      "Vui long nhap so lon hon 0\n"
     ]
    },
    {
     "name": "stdin",
     "output_type": "stream",
     "text": [
      " -3\n"
     ]
    },
    {
     "name": "stdout",
     "output_type": "stream",
     "text": [
      "Vui long nhap so lon hon 0\n"
     ]
    },
    {
     "name": "stdin",
     "output_type": "stream",
     "text": [
      " 4\n"
     ]
    },
    {
     "name": "stdout",
     "output_type": "stream",
     "text": [
      "24\n"
     ]
    }
   ],
   "source": [
    "#bai3\n",
    "try:\n",
    "    def fac(n):\n",
    "        tich = 1\n",
    "        for i in range(1,n+1):\n",
    "            tich*=i\n",
    "        return tich\n",
    "    if __name__ == '__main__':\n",
    "        while(check):\n",
    "            n = int(input())\n",
    "            if n>=0:\n",
    "                check = 0\n",
    "            else:\n",
    "                print(\"Vui long nhap so lon hon 0\")\n",
    "        print(fac(n))\n",
    "except ValueError:\n",
    "    print(\"Vui long nhap so nguyen n > 0\")"
   ]
  },
  {
   "cell_type": "code",
   "execution_count": 60,
   "id": "f641c558-2ea4-4a05-9c04-32325ec44750",
   "metadata": {},
   "outputs": [
    {
     "name": "stdin",
     "output_type": "stream",
     "text": [
      " 0\n"
     ]
    },
    {
     "name": "stdout",
     "output_type": "stream",
     "text": [
      "0\n"
     ]
    }
   ],
   "source": [
    "#bai4\n",
    "try:\n",
    "    n = int(input())\n",
    "    cnt = 0\n",
    "    duong = abs(n)\n",
    "    while(duong):\n",
    "        cnt+=1\n",
    "        duong//=10\n",
    "    print(cnt)\n",
    "except:\n",
    "    print(\"Vui long nhap so nguyen\")"
   ]
  },
  {
   "cell_type": "code",
   "execution_count": 59,
   "id": "0ab09947-70c6-4f76-8a79-dfac836de9fc",
   "metadata": {},
   "outputs": [
    {
     "name": "stdin",
     "output_type": "stream",
     "text": [
      " 2\n",
      " 1\n",
      "  42\n"
     ]
    },
    {
     "name": "stdout",
     "output_type": "stream",
     "text": [
      "I′ve found the meaning of life!\n"
     ]
    }
   ],
   "source": [
    "#bai5\n",
    "try:\n",
    "    so = int(input())\n",
    "    flag = False\n",
    "    while(so):\n",
    "        n = int(input())\n",
    "        if n == 42:\n",
    "            flag = True\n",
    "        so-=1\n",
    "    if flag:\n",
    "        print(\"I′ve found the meaning of life!\")\n",
    "    else:\n",
    "        print(\"It's a joke!\")\n",
    "except:\n",
    "    print(\"Vui long nhap so nguyen\")"
   ]
  },
  {
   "cell_type": "code",
   "execution_count": 108,
   "id": "d5354540-80c3-498d-9db2-88af91b8021c",
   "metadata": {},
   "outputs": [
    {
     "name": "stdin",
     "output_type": "stream",
     "text": [
      " 2\n",
      " -2 10\n"
     ]
    },
    {
     "name": "stdout",
     "output_type": "stream",
     "text": [
      "Vui long nhap 0<a<b\n"
     ]
    },
    {
     "name": "stdin",
     "output_type": "stream",
     "text": [
      " 10 40\n"
     ]
    },
    {
     "name": "stdout",
     "output_type": "stream",
     "text": [
      "180\n"
     ]
    }
   ],
   "source": [
    "#bai6\n",
    "from math import *\n",
    "try:\n",
    "    so_test = int(input())\n",
    "    for i in range(so_test):\n",
    "        sum = 0\n",
    "        a,b = map(int, input().strip().split())\n",
    "        if(a < b and a>=0):\n",
    "            for j in range(a, b+1):\n",
    "                flag = False\n",
    "                if j >= 2:\n",
    "                    flag = True\n",
    "                for k in range(2, isqrt(j)+1):\n",
    "                    if j%k == 0: \n",
    "                        flag = False\n",
    "                        break\n",
    "                if flag:\n",
    "                    sum+=j\n",
    "            print(sum)\n",
    "        else:\n",
    "            print(\"Vui long nhap 0<a<b\")\n",
    "except:\n",
    "    print(\"Vui long nhap so test nguyen 1 dong, sau do nhap a,b duong tren 1 dong\")"
   ]
  },
  {
   "cell_type": "code",
   "execution_count": 127,
   "id": "e63830d0-5ad6-417b-b0c8-36bea05e6719",
   "metadata": {},
   "outputs": [
    {
     "name": "stdin",
     "output_type": "stream",
     "text": [
      " 15\n"
     ]
    },
    {
     "name": "stdout",
     "output_type": "stream",
     "text": [
      "5\n"
     ]
    }
   ],
   "source": [
    "#bai7: uoc so nguyen to lon nhat\n",
    "try:\n",
    "    n = int(input())\n",
    "    if n>=2:\n",
    "        for i in range(2, isqrt(n)+1):\n",
    "            if n%i == 0:\n",
    "                while n%i == 0:\n",
    "                    n//=i\n",
    "                    unt = i\n",
    "        if n > 1:\n",
    "            print(n)\n",
    "        else:\n",
    "            print(unt)\n",
    "    else:\n",
    "        print(\"Vui long nhap so nguyen >=2\")\n",
    "except:\n",
    "    print(\"Vui long nhap so nguyen >=2\")"
   ]
  },
  {
   "cell_type": "code",
   "execution_count": 173,
   "id": "9abc7f3d-8960-46f3-8b39-6891fed08379",
   "metadata": {},
   "outputs": [
    {
     "name": "stdin",
     "output_type": "stream",
     "text": [
      " 12093182\n"
     ]
    },
    {
     "name": "stdout",
     "output_type": "stream",
     "text": [
      "so thuan nghich la: 70455407\n",
      "so lan lap la: 2\n"
     ]
    }
   ],
   "source": [
    "## bai8\n",
    "#reversepalindrome\n",
    "try:\n",
    "    n = int(input())\n",
    "    if n >= 0:\n",
    "        cnt = 0\n",
    "        while True:\n",
    "            r = 0\n",
    "            temp = n\n",
    "            while(temp):\n",
    "                r = r*10+ temp%10\n",
    "                temp//=10\n",
    "            if n == r:\n",
    "                print(f'so thuan nghich la: {r}')\n",
    "                print(f'so lan lap la: {cnt}')\n",
    "                break\n",
    "            else:\n",
    "                n +=r\n",
    "                cnt+=1\n",
    "    else:\n",
    "        print(\"Vui long nhap n >= 0\")\n",
    "except:\n",
    "    print(\"Vui long nhap n >= 0\")"
   ]
  },
  {
   "cell_type": "code",
   "execution_count": 44,
   "id": "8cefb519-e60a-4545-bc73-8407b5353c7f",
   "metadata": {},
   "outputs": [
    {
     "name": "stdin",
     "output_type": "stream",
     "text": [
      " 1000\n"
     ]
    },
    {
     "name": "stdout",
     "output_type": "stream",
     "text": [
      "1 4 9 16 25 36 49 64 81 169 196 256 289 324 361 529 576 625 729 784 841 961 "
     ]
    }
   ],
   "source": [
    "#bai9\n",
    "from math import isqrt\n",
    "try:\n",
    "    n = int(input())\n",
    "    if n == 0:\n",
    "        print(\"no number\")\n",
    "    else:\n",
    "        for i in range(1, isqrt(n) + 1):\n",
    "            num = i * i\n",
    "            flag = True\n",
    "            s = [0,0,0,0,0,0,0,0,0,0]\n",
    "            temp = num\n",
    "            while temp:\n",
    "                last_digit = temp % 10\n",
    "                if s[last_digit] == 1:\n",
    "                    flag = False\n",
    "                    break\n",
    "                s[last_digit] = 1\n",
    "                temp //= 10\n",
    "            if flag:\n",
    "                print(num, end=' ')\n",
    "except ValueError:\n",
    "    print(\"Vui long nhap so nguyen n > 0\")\n"
   ]
  },
  {
   "cell_type": "code",
   "execution_count": 85,
   "id": "c5131767-8d79-43cf-823d-d05c0206aeda",
   "metadata": {},
   "outputs": [
    {
     "name": "stdin",
     "output_type": "stream",
     "text": [
      " 1000000\n"
     ]
    },
    {
     "name": "stdout",
     "output_type": "stream",
     "text": [
      "837799 525\n"
     ]
    }
   ],
   "source": [
    "# bai10: day collatz\n",
    "#bat dau = 1 so n bat ki: so truoc even -> so sau = 1/2 so truoc; so truoc odd -> so sau = 3*truoc+1\n",
    "try:\n",
    "    n = int(input())\n",
    "    if n>1:\n",
    "        lon_nhat = 1\n",
    "        for i in range(1,n+1):\n",
    "            cnt = 1\n",
    "            temp = i\n",
    "            while temp != 1:\n",
    "                if temp%2 == 0:\n",
    "                    temp//=2\n",
    "                    cnt+=1\n",
    "                else:\n",
    "                    temp = 3*temp+1\n",
    "                    cnt+=1\n",
    "            if (cnt > lon_nhat): #kiem tra L lon nhat, dong thoi thoa man luon chon so nho nhat, vi neu co nhieu so cung do dai, so nho hon se duoc duyet truoc.\n",
    "                lon_nhat = cnt\n",
    "                chiso = i\n",
    "        print(chiso, lon_nhat, sep = ' ')\n",
    "    elif n == 1:\n",
    "        print(1, 1, sep = ' ')\n",
    "    else:\n",
    "        print(\"Vui long nhap so nguyen duong n\")\n",
    "except ValueError:\n",
    "    print(\"Vui long nhap so nguyen duong n\")"
   ]
  },
  {
   "cell_type": "code",
   "execution_count": 95,
   "id": "bc0200ec-e917-41c7-85b7-7e04313c26c2",
   "metadata": {},
   "outputs": [
    {
     "name": "stdin",
     "output_type": "stream",
     "text": [
      " 1000000\n"
     ]
    },
    {
     "name": "stdout",
     "output_type": "stream",
     "text": [
      "37\n"
     ]
    }
   ],
   "source": [
    "#bai11:\n",
    "try:\n",
    "    n = int(input())\n",
    "    cnt = 0\n",
    "    for i in range(1,isqrt(n)+1):\n",
    "        if n%i == 0 and i%2 == 0:\n",
    "            cnt+=1\n",
    "            if(i != n//i):\n",
    "                if n//i %2 == 0:\n",
    "                    cnt+=1\n",
    "    print(cnt)\n",
    "except ValueError:\n",
    "    print(\"Vui long nhap n la so nguyen > 0\")"
   ]
  },
  {
   "cell_type": "code",
   "execution_count": 106,
   "id": "e26f71d6-a902-4768-acb4-3caf36a8426b",
   "metadata": {},
   "outputs": [
    {
     "name": "stdin",
     "output_type": "stream",
     "text": [
      " 109239123\n",
      " 12\n"
     ]
    },
    {
     "name": "stdout",
     "output_type": "stream",
     "text": [
      "246027434\n"
     ]
    }
   ],
   "source": [
    "#bai12:\n",
    "try:\n",
    "    x = int(input())\n",
    "    n = int(input())\n",
    "    if x > 0 and n > 0:\n",
    "        tien = 1.07**n*x\n",
    "        print(round(tien))\n",
    "    else:\n",
    "        print(\"Vui long nhap so tien va so thang (n) > 0\")\n",
    "except ValueError:\n",
    "    print(\"Vui long nhap so tien va so thang (n) > 0\")"
   ]
  },
  {
   "cell_type": "code",
   "execution_count": 130,
   "id": "480b4675-fa91-4ea0-9e21-5b3d0af3b5bc",
   "metadata": {},
   "outputs": [
    {
     "name": "stdin",
     "output_type": "stream",
     "text": [
      " 220 284\n"
     ]
    },
    {
     "name": "stdout",
     "output_type": "stream",
     "text": [
      "true\n"
     ]
    }
   ],
   "source": [
    "#bai13:\n",
    "from math import isqrt\n",
    "try:\n",
    "    a,b = map(int,input().strip().split())\n",
    "    \n",
    "    sum1 = 1\n",
    "    for i in range(2, isqrt(a)+1):\n",
    "        if a%i == 0:\n",
    "            sum1+=i\n",
    "            if(i != a//i):\n",
    "                sum1+= a//i\n",
    "                \n",
    "    sum2 = 1\n",
    "    for i in range(2,isqrt(b)+1):\n",
    "        if b%i == 0:\n",
    "            sum2+=i\n",
    "            if(i != b//i):\n",
    "                sum2+= b//i\n",
    "                \n",
    "    print(\"true\" if sum1 == b and sum2 == a else \"false\")\n",
    "except ValueError:\n",
    "    print(\"Vui long nhap a,b la so nguyen > 0 tren 1 dong\")"
   ]
  },
  {
   "cell_type": "code",
   "execution_count": 143,
   "id": "c1c1cf48-f1eb-4525-82e7-b8dec3a21943",
   "metadata": {},
   "outputs": [
    {
     "name": "stdin",
     "output_type": "stream",
     "text": [
      " 984 18234\n"
     ]
    },
    {
     "name": "stdout",
     "output_type": "stream",
     "text": [
      "6\n"
     ]
    }
   ],
   "source": [
    "#bai14: ucln: dung dinh ly euclid\n",
    "a,b = map(int,input().strip().split())\n",
    "while(b):\n",
    "    temp = b\n",
    "    b = a%b\n",
    "    a = temp\n",
    "print(a)"
   ]
  },
  {
   "cell_type": "code",
   "execution_count": 152,
   "id": "243fd188-b616-436b-8168-141565b0fbeb",
   "metadata": {},
   "outputs": [
    {
     "name": "stdin",
     "output_type": "stream",
     "text": [
      " 36 100\n"
     ]
    },
    {
     "name": "stdout",
     "output_type": "stream",
     "text": [
      "so cho: 14, so ga: 22\n"
     ]
    }
   ],
   "source": [
    "#bai15:\n",
    "#cho + ga = tong\n",
    "#4*cho + 2* ga = chan\n",
    "try:\n",
    "    tong, chan = map(int,input().strip().split())\n",
    "    det = -2\n",
    "    cho = (tong*2-chan) / det\n",
    "    ga = (chan - 4*tong) / det\n",
    "    if cho - int(cho) == 0 and ga - int(ga) == 0:\n",
    "        print(f'so cho: {int(cho)}, so ga: {int(ga)}')\n",
    "    else:\n",
    "        print(\"invalid\")\n",
    "except ValueError:\n",
    "    print(\"Vui long nhap tong so cho va ga, so chan tren 1 dong\")"
   ]
  }
 ],
 "metadata": {
  "kernelspec": {
   "display_name": "Python 3 (ipykernel)",
   "language": "python",
   "name": "python3"
  },
  "language_info": {
   "codemirror_mode": {
    "name": "ipython",
    "version": 3
   },
   "file_extension": ".py",
   "mimetype": "text/x-python",
   "name": "python",
   "nbconvert_exporter": "python",
   "pygments_lexer": "ipython3",
   "version": "3.13.7"
  }
 },
 "nbformat": 4,
 "nbformat_minor": 5
}
