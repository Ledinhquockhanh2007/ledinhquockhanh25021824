{
 "cells": [
  {
   "cell_type": "markdown",
   "id": "cf1665df-5192-4c9b-af64-7634ceb516e0",
   "metadata": {},
   "source": []
  },
  {
   "cell_type": "code",
   "execution_count": 93,
   "id": "732c5b30-259a-4fcf-b30a-3db944c4c859",
   "metadata": {},
   "outputs": [
    {
     "name": "stdin",
     "output_type": "stream",
     "text": [
      " 0/1/2000\n"
     ]
    },
    {
     "name": "stdout",
     "output_type": "stream",
     "text": [
      "VALID\n"
     ]
    }
   ],
   "source": [
    "#BAITAPTHEM\n",
    "date,month,year = map(int,(input().split(\"/\")))\n",
    "if year >= 1900:\n",
    "    if (month == 1 or month == 3 or month == 5 or month == 7 or month == 8 or month == 10 or month == 12):\n",
    "        if date>31 or date<=0: print(\"INVALID\")\n",
    "        else: print(\"VALID\")\n",
    "    elif(month == 4 or month == 6 or month == 9 or month == 11):\n",
    "        if date >30 or date <=0: print(\"INVALID\")\n",
    "        else: print(\"VALID\")\n",
    "    else:\n",
    "        if(year%400 == 0 or (year % 100 !=0 and year % 4 == 0)):\n",
    "            print(\"INVALID\" if date > 29 or date <= 0 else \"VALID\")\n",
    "        else:\n",
    "            print(\"INVALID\" if date >28 or date <= 0 else \"VALID\")\n",
    "else:\n",
    "    print(\"INVALID\")\n",
    "\n",
    "    "
   ]
  },
  {
   "cell_type": "code",
   "execution_count": 3,
   "id": "c7b77ffa-1d8a-4fd9-a2f1-bd232028220e",
   "metadata": {},
   "outputs": [
    {
     "name": "stdin",
     "output_type": "stream",
     "text": [
      " 2\n"
     ]
    },
    {
     "name": "stdout",
     "output_type": "stream",
     "text": [
      "4\n"
     ]
    }
   ],
   "source": [
    "#bai1\n",
    "try:\n",
    "    n = int(input())\n",
    "    print(2*n)\n",
    "except:\n",
    "    print(\"INVALID\")"
   ]
  },
  {
   "cell_type": "code",
   "execution_count": 6,
   "id": "593855bf-dda9-4792-99a4-71f8d2d558eb",
   "metadata": {},
   "outputs": [
    {
     "name": "stdin",
     "output_type": "stream",
     "text": [
      " 2 3\n"
     ]
    },
    {
     "name": "stdout",
     "output_type": "stream",
     "text": [
      "2.86\n"
     ]
    }
   ],
   "source": [
    "#bai2\n",
    "try:\n",
    "    a,b = map(int,input().split())\n",
    "    print('%.2f'%(a*b - 3.14*(a/2)**2))\n",
    "except:\n",
    "    print(\"Vui long nhap 2 so tren 1 dong\")\n"
   ]
  },
  {
   "cell_type": "code",
   "execution_count": 20,
   "id": "8a05418c-c190-4865-92e4-8de29609a4aa",
   "metadata": {},
   "outputs": [
    {
     "name": "stdin",
     "output_type": "stream",
     "text": [
      " C\n"
     ]
    },
    {
     "name": "stdout",
     "output_type": "stream",
     "text": [
      "c\n"
     ]
    }
   ],
   "source": [
    "#bai3\n",
    "try:\n",
    "    c = input()\n",
    "    if('a' <= c <= 'z'):\n",
    "        print(chr(ord(c)-32))\n",
    "    elif('A' <=c<='Z'):\n",
    "        print(chr(ord(c)+32))\n",
    "except:\n",
    "    print(\"Wrong input\")"
   ]
  },
  {
   "cell_type": "code",
   "execution_count": 24,
   "id": "8b790433-502c-4a2d-96a9-b1a3545ac5e9",
   "metadata": {},
   "outputs": [
    {
     "name": "stdin",
     "output_type": "stream",
     "text": [
      " B\n"
     ]
    },
    {
     "name": "stdout",
     "output_type": "stream",
     "text": [
      "B la ki tu alphabet\n"
     ]
    }
   ],
   "source": [
    "#bai4\n",
    "try:\n",
    "    c = input()\n",
    "    if('a'<=c<='z' or 'A'<= c <= 'Z'):\n",
    "        print(f'{c} la ki tu alphabet')\n",
    "    else:\n",
    "        print(f'{c} khong la ki tu alphabet')\n",
    "except:\n",
    "    print(\"Wrong input\")"
   ]
  },
  {
   "cell_type": "code",
   "execution_count": 33,
   "id": "b0075782-6e57-4ac2-b67a-14d6c9cf5f61",
   "metadata": {},
   "outputs": [
    {
     "name": "stdin",
     "output_type": "stream",
     "text": [
      " M\n"
     ]
    },
    {
     "name": "stdout",
     "output_type": "stream",
     "text": [
      "l\n"
     ]
    }
   ],
   "source": [
    "#bai5\n",
    "try:\n",
    "    c = input()\n",
    "    if('B' <=c<='Z'):\n",
    "        print(chr(ord(c)+32-1))\n",
    "    elif(c == 'A'):\n",
    "        print(\"Dac biet\")\n",
    "except:\n",
    "    print(\"Wrong input\")"
   ]
  },
  {
   "cell_type": "code",
   "execution_count": 40,
   "id": "e0158ad8-76bf-4058-947c-36e8225f492c",
   "metadata": {},
   "outputs": [
    {
     "name": "stdin",
     "output_type": "stream",
     "text": [
      " 3 4 5\n"
     ]
    },
    {
     "name": "stdout",
     "output_type": "stream",
     "text": [
      "6.0\n"
     ]
    }
   ],
   "source": [
    "#bai6\n",
    "from math import*\n",
    "a,b,c = map(int,input().split())\n",
    "if(a+b >c and a+c>b and b+c>a):\n",
    "    p = (a+b+c)/2\n",
    "    print('%.1f'%(sqrt(p*(p-a)*(p-b)*(p-c))))\n",
    "else:\n",
    "    print(\"Khong phai 3 canh cua tam giac\")"
   ]
  },
  {
   "cell_type": "code",
   "execution_count": 84,
   "id": "3fab909b-11d2-4949-9cd1-6af2a61b472e",
   "metadata": {},
   "outputs": [
    {
     "name": "stdin",
     "output_type": "stream",
     "text": [
      " abckabwdkjawjhdkajhwdjkahwda\n"
     ]
    },
    {
     "name": "stdout",
     "output_type": "stream",
     "text": [
      "a\n",
      "k\n"
     ]
    }
   ],
   "source": [
    "#bai7\n",
    "chuoi = input()\n",
    "if (len(chuoi)>=20):\n",
    "    cnt = 0\n",
    "    for i in chuoi:\n",
    "        if(i.isupper()):\n",
    "            print(\"Chuoi phai gom toan bo chu thuong\")\n",
    "            break\n",
    "        cnt+=1\n",
    "        if cnt == 5 or cnt == 9:\n",
    "            print(i)\n",
    "else:\n",
    "    print(\"Khong du 20 ki tu\")\n"
   ]
  },
  {
   "cell_type": "code",
   "execution_count": 45,
   "id": "afa360f4-01ac-4ed5-a5ad-86539d0919cb",
   "metadata": {},
   "outputs": [
    {
     "name": "stdin",
     "output_type": "stream",
     "text": [
      "Ten chu ho: a\n",
      "Chi so thang truoc: 2097\n",
      "Chi so thang nay: 2278\n"
     ]
    },
    {
     "name": "stdout",
     "output_type": "stream",
     "text": [
      "Ho va ten: a\n",
      "Tien phai tra la: 426038\n"
     ]
    }
   ],
   "source": [
    "ten = input(\"Ten chu ho:\")\n",
    "a = int(input(\"Chi so thang truoc:\"))\n",
    "b = int(input(\"Chi so thang nay:\"))\n",
    "dif = b - a\n",
    "if dif>=401:\n",
    "    tien =(dif - 400)*3460 + 1074500\n",
    "elif 301 <= dif <=400:\n",
    "    tien =(dif-300)*3350 + 739500\n",
    "elif 201 <= dif <= 300:\n",
    "    tien =(dif-200)*2998 + 439700\n",
    "elif 101 <= dif <= 200:\n",
    "    tien = (dif-100)*2380 + 201700\n",
    "elif 51 <= dif <= 100:\n",
    "    tien = (dif-50)*2050 + 99200\n",
    "else:\n",
    "    tien = dif * 1984\n",
    "print(\"Ho va ten:\", ten)\n",
    "print(\"Tien phai tra la:\", round(tien*1.08))"
   ]
  },
  {
   "cell_type": "code",
   "execution_count": null,
   "id": "84e2aabd-5f4c-4f63-bb16-32b9fcb43dfa",
   "metadata": {},
   "outputs": [],
   "source": [
    "#baitapkhac"
   ]
  },
  {
   "cell_type": "code",
   "execution_count": 47,
   "id": "f998f0ad-cd2e-4214-9977-081b03468d14",
   "metadata": {},
   "outputs": [
    {
     "name": "stdin",
     "output_type": "stream",
     "text": [
      " 4\n"
     ]
    },
    {
     "name": "stdout",
     "output_type": "stream",
     "text": [
      "chan\n"
     ]
    }
   ],
   "source": [
    "#bai1\n",
    "n = int(input())\n",
    "print(\"chan\" if n%2 == 0 else \"le\")"
   ]
  },
  {
   "cell_type": "code",
   "execution_count": 50,
   "id": "864b0fd0-4b03-4488-83ba-458d993d7f62",
   "metadata": {},
   "outputs": [
    {
     "name": "stdin",
     "output_type": "stream",
     "text": [
      " 15\n"
     ]
    },
    {
     "name": "stdout",
     "output_type": "stream",
     "text": [
      "True\n"
     ]
    }
   ],
   "source": [
    "#bai2\n",
    "n = int(input())\n",
    "print(\"True\" if n%10 == 5 else \"False\")"
   ]
  },
  {
   "cell_type": "code",
   "execution_count": 52,
   "id": "79f7bc0f-4a97-4259-9917-be250681b04c",
   "metadata": {},
   "outputs": [
    {
     "name": "stdin",
     "output_type": "stream",
     "text": [
      " 31\n"
     ]
    },
    {
     "name": "stdout",
     "output_type": "stream",
     "text": [
      "False\n"
     ]
    }
   ],
   "source": [
    "#bai3\n",
    "n = int(input())\n",
    "print(\"True\" if n%3 == 0 and n%5 == 0 else \"False\")"
   ]
  },
  {
   "cell_type": "code",
   "execution_count": 53,
   "id": "6fab8a17-d797-493b-9b76-4226271c5d61",
   "metadata": {},
   "outputs": [
    {
     "name": "stdin",
     "output_type": "stream",
     "text": [
      " 18\n"
     ]
    },
    {
     "name": "stdout",
     "output_type": "stream",
     "text": [
      "du tuoi\n"
     ]
    }
   ],
   "source": [
    "#bai4\n",
    "try:\n",
    "    age = int(input())\n",
    "    if(age>=0):\n",
    "        print(\"du tuoi\" if age >= 18 else\"chua du tuoi\")\n",
    "    else:\n",
    "        print(\"Tuoi khong duoc am\")\n",
    "except:\n",
    "    print(\"Sai cu phap\")"
   ]
  },
  {
   "cell_type": "code",
   "execution_count": 59,
   "id": "45158ba9-21ac-40ea-bd6c-e4284c33ebcc",
   "metadata": {},
   "outputs": [
    {
     "name": "stdin",
     "output_type": "stream",
     "text": [
      " 2 2\n"
     ]
    },
    {
     "name": "stdout",
     "output_type": "stream",
     "text": [
      "hai so bang nhau\n"
     ]
    }
   ],
   "source": [
    "a,b = map(int, input().split())\n",
    "print((a if a>b else b) if a != b else \"hai so bang nhau\")"
   ]
  },
  {
   "cell_type": "code",
   "execution_count": 62,
   "id": "da74f05f-c52f-4693-8e12-6dec6f781679",
   "metadata": {},
   "outputs": [
    {
     "name": "stdin",
     "output_type": "stream",
     "text": [
      " 1\n"
     ]
    },
    {
     "name": "stdout",
     "output_type": "stream",
     "text": [
      "chu so\n"
     ]
    }
   ],
   "source": [
    "c = input()\n",
    "if '0'<=c<='9':\n",
    "    print(\"chu so\")\n",
    "elif 'a'<=c<='z' or 'A'<=c<='Z':\n",
    "    print(\"chu cai\")"
   ]
  },
  {
   "cell_type": "code",
   "execution_count": 66,
   "id": "3839fc60-2014-4bf1-a367-07c39e636744",
   "metadata": {},
   "outputs": [
    {
     "name": "stdin",
     "output_type": "stream",
     "text": [
      " 7.9\n"
     ]
    },
    {
     "name": "stdout",
     "output_type": "stream",
     "text": [
      "Kha\n"
     ]
    }
   ],
   "source": [
    "diem = float(input())\n",
    "if(0<= diem <=10):\n",
    "    print(\"Gioi\" if diem >=8 else (\"Kha\" if(6.5<= diem <8) else(\"Trung binh\" if 5<=diem<6.5 else \"Yeu\")))"
   ]
  },
  {
   "cell_type": "code",
   "execution_count": 70,
   "id": "030c8d4a-1f8a-40b6-bad8-b9fc022b0361",
   "metadata": {},
   "outputs": [
    {
     "name": "stdin",
     "output_type": "stream",
     "text": [
      " 2016\n"
     ]
    },
    {
     "name": "stdout",
     "output_type": "stream",
     "text": [
      "Nam nhuan\n"
     ]
    }
   ],
   "source": [
    "year = int(input())\n",
    "if(year >=0):\n",
    "    if(year % 400 == 0 or (year % 100 != 0 and year %4 == 0)):\n",
    "        print(\"Nam nhuan\")\n",
    "    else:\n",
    "        print(\"Nam khong nhuan\")"
   ]
  },
  {
   "cell_type": "code",
   "execution_count": 74,
   "id": "a16ff1ba-716d-4fb1-9861-48af0a8b1f59",
   "metadata": {},
   "outputs": [
    {
     "name": "stdin",
     "output_type": "stream",
     "text": [
      " 9\n"
     ]
    },
    {
     "name": "stdout",
     "output_type": "stream",
     "text": [
      "Chin\n"
     ]
    }
   ],
   "source": [
    "n = int(input())\n",
    "match n:\n",
    "    case 1: print(\"Mot\")\n",
    "    case 2: print(\"Hai\")\n",
    "    case 3: print(\"Ba\")\n",
    "    case 4: print(\"Bon\")\n",
    "    case 5: print(\"Nam\")\n",
    "    case 6: print(\"Sau\")\n",
    "    case 7: print(\"Bay\")\n",
    "    case 8: print(\"Tam\")\n",
    "    case 9: print(\"Chin\")\n",
    "    case _: print(\"Khong hop le\")"
   ]
  },
  {
   "cell_type": "code",
   "execution_count": 78,
   "id": "698a6dba-fb35-4cb8-bf12-1b05e929192d",
   "metadata": {},
   "outputs": [
    {
     "name": "stdin",
     "output_type": "stream",
     "text": [
      " 4\n"
     ]
    },
    {
     "name": "stdout",
     "output_type": "stream",
     "text": [
      "Qua mon\n"
     ]
    }
   ],
   "source": [
    "diem = int(input())\n",
    "if diem >=4:\n",
    "    print(\"Qua mon\")\n",
    "elif(0<=diem<4):\n",
    "    print(\"Hoc lai\")\n",
    "    "
   ]
  },
  {
   "cell_type": "code",
   "execution_count": 81,
   "id": "7a91ddd3-2b48-4c38-b85b-877fbf1220b8",
   "metadata": {},
   "outputs": [
    {
     "name": "stdin",
     "output_type": "stream",
     "text": [
      " 2008\n"
     ]
    },
    {
     "name": "stdout",
     "output_type": "stream",
     "text": [
      "Em chua 18\n"
     ]
    }
   ],
   "source": [
    "birth = int(input())\n",
    "print(\"du 18\" if 2025 - birth >= 18 else \"Em chua 18\")"
   ]
  }
 ],
 "metadata": {
  "kernelspec": {
   "display_name": "Python 3 (ipykernel)",
   "language": "python",
   "name": "python3"
  },
  "language_info": {
   "codemirror_mode": {
    "name": "ipython",
    "version": 3
   },
   "file_extension": ".py",
   "mimetype": "text/x-python",
   "name": "python",
   "nbconvert_exporter": "python",
   "pygments_lexer": "ipython3",
   "version": "3.13.7"
  }
 },
 "nbformat": 4,
 "nbformat_minor": 5
}
